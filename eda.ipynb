{
 "cells": [
  {
   "cell_type": "markdown",
   "metadata": {},
   "source": [
    "## EDA Analysis\n",
    "Table iar_ocupaciones"
   ]
  },
  {
   "cell_type": "code",
   "execution_count": null,
   "metadata": {},
   "outputs": [],
   "source": [
    "import pandas as pd\n",
    "import matplotlib.pyplot as plt\n",
    "from matplotlib.ticker import FuncFormatter\n",
    "import seaborn as sns"
   ]
  },
  {
   "cell_type": "code",
   "execution_count": null,
   "metadata": {},
   "outputs": [],
   "source": [
    "def millions(x, pos):\n",
    "    return f'{x * 1e-6:.1f}M'  # Convert to millions and format with one decimal place\n",
    "\n",
    "\n",
    "def graph(x1, y1, ylabel1, y2, ylabel2):\n",
    "    fig, ax = plt.subplots(2, 1, figsize=(24, 10), sharex=True)\n",
    "\n",
    "    ax[0].plot(x1, y1, color='blue', label=ylabel1, marker='o', linestyle='-', linewidth=2)\n",
    "    ax[0].set_title(f'{ylabel1} Over Time')\n",
    "    ax[0].set_xlabel(\"Date\")\n",
    "    ax[0].set_ylabel(f'{ylabel1} (in Millions)')\n",
    "    ax[0].yaxis.set_major_formatter(FuncFormatter(millions))  # Apply the formatter to the y-axis\n",
    "    ax[0].tick_params(axis='x', which='both', labelbottom=True)\n",
    "    ax[0].legend()\n",
    "\n",
    "    ax[1].plot(x1, y2, color='red', label=ylabel2, marker='o', linestyle='-', linewidth=2)\n",
    "    ax[1].set_title(f'{ylabel2} Over Time')\n",
    "    ax[1].set_xlabel(\"Date\")\n",
    "    ax[1].set_ylabel(f'{ylabel2} (in Millions)')\n",
    "    ax[1].yaxis.set_major_formatter(FuncFormatter(millions))  # Apply the formatter to the y-axis\n",
    "    ax[1].tick_params(axis='x', which='both', labelbottom=True)\n",
    "    ax[1].legend()\n",
    "\n",
    "    # Add grid lines\n",
    "    for axis in ax:\n",
    "        axis.tick_params(axis='x', rotation=45)  # Rotate x-axis labels for readability\n",
    "        axis.grid(True, linestyle='--', alpha=0.5)\n",
    "\n",
    "    # Adjust layout\n",
    "    plt.tight_layout()\n",
    "\n",
    "    # Show the plot\n",
    "    plt.show()\n",
    "\n",
    "def histogram(column, label, threshold=0):\n",
    "    plt.figure(figsize=(24, 6))\n",
    "    columna = column.value_counts()\n",
    "\n",
    "    # less_than = columna[columna < threshold].sum()\n",
    "    main = columna[columna >= threshold]\n",
    "\n",
    "    # pd.concat([main, pd.Series({'Other': less_than})]).plot(kind='bar', color='skyblue', edgecolor='black')\n",
    "    main.plot(kind='bar', color='skyblue', edgecolor='black')\n",
    "\n",
    "    # Add title and labels\n",
    "    plt.title(f'Occurrences of Each Factor in {label}')\n",
    "    plt.xlabel(label)\n",
    "    plt.ylabel('Count')\n",
    "\n",
    "    # Show the plot\n",
    "    plt.show()"
   ]
  },
  {
   "cell_type": "code",
   "execution_count": null,
   "metadata": {},
   "outputs": [],
   "source": [
    "df2 = pd.read_csv(\"iar_ocupaciones.csv\")"
   ]
  },
  {
   "cell_type": "code",
   "execution_count": null,
   "metadata": {},
   "outputs": [],
   "source": [
    "df2.info()"
   ]
  },
  {
   "cell_type": "code",
   "execution_count": null,
   "metadata": {},
   "outputs": [],
   "source": [
    "df = df2.drop_duplicates()\n",
    "df['Fecha_hoy'] = pd.to_datetime(df['Fecha_hoy'])"
   ]
  },
  {
   "cell_type": "code",
   "execution_count": null,
   "metadata": {},
   "outputs": [],
   "source": [
    "print(len(df2)) \n",
    "print(len(df))"
   ]
  },
  {
   "cell_type": "code",
   "execution_count": null,
   "metadata": {},
   "outputs": [],
   "source": [
    "abs(len(df2) - len(df))"
   ]
  },
  {
   "cell_type": "code",
   "execution_count": null,
   "metadata": {},
   "outputs": [],
   "source": [
    "df.columns"
   ]
  },
  {
   "cell_type": "markdown",
   "metadata": {},
   "source": [
    "### Group By Date"
   ]
  },
  {
   "cell_type": "code",
   "execution_count": null,
   "metadata": {},
   "outputs": [],
   "source": [
    "df.head()"
   ]
  },
  {
   "cell_type": "code",
   "execution_count": null,
   "metadata": {},
   "outputs": [],
   "source": [
    "# Dataframe for numerical columns and date\n",
    "df_num = df[['Fecha_hoy', 'ing_hab', 'aa_ing_hab',\n",
    "             'ing_hab_nocoruso', 'aa_ing_hab_nocoruso']]\n",
    "df_num['monthly'] = df['Fecha_hoy'].dt.strftime('%Y-%m')\n",
    "df_num = df_num.drop(\"Fecha_hoy\", axis=1)\n",
    "df_num.head()"
   ]
  },
  {
   "cell_type": "markdown",
   "metadata": {},
   "source": [
    "#### ing_hab and aa_ing_hab over time"
   ]
  },
  {
   "cell_type": "code",
   "execution_count": null,
   "metadata": {},
   "outputs": [],
   "source": [
    "df_num = df_num.groupby(by=\"monthly\").sum()"
   ]
  },
  {
   "cell_type": "code",
   "execution_count": null,
   "metadata": {},
   "outputs": [],
   "source": [
    "graph(df_num.index, df_num[\"ing_hab\"], \"ing_hab\", df_num[\"aa_ing_hab\"], \"aa_ing_hab\")\n"
   ]
  },
  {
   "cell_type": "markdown",
   "metadata": {},
   "source": [
    "#### ing_hab_nocoruso and aa_ing_hab_nocoruso over time"
   ]
  },
  {
   "cell_type": "code",
   "execution_count": null,
   "metadata": {},
   "outputs": [],
   "source": [
    "graph(df_num.index, df_num[\"ing_hab_nocoruso\"], \"ing_hab_nocoruso\", df_num[\"aa_ing_hab_nocoruso\"], \"aa_ing_hab_nocoruso\")"
   ]
  },
  {
   "cell_type": "markdown",
   "metadata": {},
   "source": [
    "### Histograms"
   ]
  },
  {
   "cell_type": "code",
   "execution_count": null,
   "metadata": {},
   "outputs": [],
   "source": [
    "histogram(df[\"ID_Tipo_Habitacion\"], \"ID_Tipo_Habitacion\", 1000)"
   ]
  },
  {
   "cell_type": "code",
   "execution_count": null,
   "metadata": {},
   "outputs": [],
   "source": [
    "histogram(df[\"ID_Agencia\"], \"ID_Agencia\", 2000)"
   ]
  },
  {
   "cell_type": "code",
   "execution_count": null,
   "metadata": {},
   "outputs": [],
   "source": [
    "histogram(df[\"ID_Entidad_Fed\"], \"ID_Entidad_Fed\", 2000)"
   ]
  },
  {
   "cell_type": "code",
   "execution_count": null,
   "metadata": {},
   "outputs": [],
   "source": [
    "histogram(df[\"ID_canal\"], \"ID_canal\")"
   ]
  },
  {
   "cell_type": "code",
   "execution_count": null,
   "metadata": {},
   "outputs": [],
   "source": [
    "histogram(df[\"ID_Programa\"], \"ID_Programa\")"
   ]
  },
  {
   "cell_type": "code",
   "execution_count": null,
   "metadata": {},
   "outputs": [],
   "source": [
    "histogram(df[\"ID_Paquete\"], \"ID_Paquete\")"
   ]
  },
  {
   "cell_type": "code",
   "execution_count": null,
   "metadata": {},
   "outputs": [],
   "source": [
    "histogram(df[\"ID_Segmento_Mercado\"], \"ID_Segmento_Mercado\")"
   ]
  },
  {
   "cell_type": "code",
   "execution_count": null,
   "metadata": {},
   "outputs": [],
   "source": [
    "histogram(df[\"ID_Segmento_Alterno\"], \"ID_Segmento_Alterno\")"
   ]
  },
  {
   "cell_type": "code",
   "execution_count": null,
   "metadata": {},
   "outputs": [],
   "source": [
    "histogram(df[\"ID_Segmento_Comp\"], \"ID_Segmento_Comp\")"
   ]
  },
  {
   "cell_type": "code",
   "execution_count": null,
   "metadata": {},
   "outputs": [],
   "source": [
    "histogram(df[\"ID_empresa\"], \"ID_empresa\")"
   ]
  },
  {
   "cell_type": "code",
   "execution_count": null,
   "metadata": {},
   "outputs": [],
   "source": [
    "histogram(df[\"ID_Empresa2\"], \"ID_Empresa2\")"
   ]
  },
  {
   "cell_type": "markdown",
   "metadata": {},
   "source": [
    "#### Matrices de Correlación"
   ]
  },
  {
   "cell_type": "code",
   "execution_count": null,
   "metadata": {},
   "outputs": [],
   "source": [
    "df_original = df2.copy()\n",
    "df_sample = df_original.sample(frac=0.05, random_state=52)  # Adjust the fraction as needed\n",
    "df_sample = df_sample.loc[:, df_sample.sum() != 0] # Remove columns with only 0s"
   ]
  },
  {
   "cell_type": "code",
   "execution_count": null,
   "metadata": {},
   "outputs": [],
   "source": [
    "# Separamos los ID's del df\n",
    "df_id = df_sample.filter(regex=\"ID\")\n",
    "df_non_id = df_sample.loc[:, ~df_sample.columns.str.contains(\"ID|aa\")]"
   ]
  },
  {
   "cell_type": "code",
   "execution_count": null,
   "metadata": {},
   "outputs": [],
   "source": [
    "# Correlation Matrix ID's\n",
    "plt.figure(figsize=(14, 8))\n",
    "sns.heatmap(df_id.corr(), annot=True, fmt=\".2f\", cmap=\"coolwarm\")\n",
    "plt.show()"
   ]
  },
  {
   "cell_type": "code",
   "execution_count": null,
   "metadata": {},
   "outputs": [],
   "source": [
    "# Correlation Matrix for non ID\n",
    "plt.figure(figsize=(14, 8))\n",
    "sns.heatmap(df_non_id.iloc[:,1:].corr(), annot=True, fmt=\".2f\", cmap=\"coolwarm\")\n",
    "plt.show()"
   ]
  },
  {
   "cell_type": "markdown",
   "metadata": {},
   "source": [
    "#### Boxplots"
   ]
  },
  {
   "cell_type": "code",
   "execution_count": null,
   "metadata": {},
   "outputs": [],
   "source": [
    "for column in df_non_id.columns:\n",
    "    if column == 'Fecha_hoy':\n",
    "        continue\n",
    "    plt.figure(figsize=(15, 2))\n",
    "    df_non_id.boxplot(column=[column], vert=False)\n",
    "    plt.title(f'Box Plot of {column}')\n",
    "    plt.ylabel('Values')\n",
    "    plt.show()"
   ]
  }
 ],
 "metadata": {
  "kernelspec": {
   "display_name": ".venv",
   "language": "python",
   "name": "python3"
  },
  "language_info": {
   "codemirror_mode": {
    "name": "ipython",
    "version": 3
   },
   "file_extension": ".py",
   "mimetype": "text/x-python",
   "name": "python",
   "nbconvert_exporter": "python",
   "pygments_lexer": "ipython3",
   "version": "3.11.10"
  }
 },
 "nbformat": 4,
 "nbformat_minor": 2
}
